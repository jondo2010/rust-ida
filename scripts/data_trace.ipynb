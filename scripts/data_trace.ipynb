{
 "cells": [
  {
   "cell_type": "code",
   "execution_count": 1,
   "metadata": {},
   "outputs": [],
   "source": [
    "import numpy as np\n",
    "import jsoncfg\n",
    "import matplotlib.pyplot as plt\n",
    "import decimal"
   ]
  },
  {
   "cell_type": "code",
   "execution_count": 149,
   "metadata": {},
   "outputs": [],
   "source": [
    "json_c = jsoncfg.load(\"/home/johughes/serialize_c.json\")['data']\n",
    "dd = {}\n",
    "for key in json_c[0].keys():\n",
    "    if type(json_c[0][key]) == str:\n",
    "        dd[key] = np.array([float.fromhex(step[key]) for step in json_c])\n",
    "    else:\n",
    "        dd[key] = np.array([step[key] for step in json_c])\n",
    "\n",
    "#data_c = type('data', (object,), dd)\n",
    "data_c = dd"
   ]
  },
  {
   "cell_type": "code",
   "execution_count": 156,
   "metadata": {},
   "outputs": [
    {
     "data": {
      "text/plain": [
       "377"
      ]
     },
     "metadata": {},
     "output_type": "display_data"
    }
   ],
   "source": [
    "data_rs = jsoncfg.load(\"roberts_rs.json\")['data']\n",
    "data = data_rs\n",
    "data_rs = {\n",
    "    'ida_phi': np.array([step['ida_phi']['data'] for step in data_rs]).reshape((len(data_rs), 6, 3)),\n",
    "    'ida_psi': np.array([step['ida_psi']['data'] for step in data_rs]),\n",
    "    'ida_alpha': np.array([step['ida_alpha']['data'] for step in data_rs]),\n",
    "    'ida_beta': np.array([step['ida_beta']['data'] for step in data_rs]),\n",
    "    'ida_sigma': np.array([step['ida_sigma']['data'] for step in data_rs]),\n",
    "    'ida_gamma': np.array([step['ida_gamma']['data'] for step in data_rs]),\n",
    "    'ida_yy': np.array([step['nlp']['ida_yy']['data'] for step in data_rs]),\n",
    "    'ida_yp': np.array([step['nlp']['ida_yp']['data'] for step in data_rs]),\n",
    "    'ida_yypredict': np.array([step['nlp']['ida_yypredict']['data'] for step in data_rs]),\n",
    "    'ida_yppredict': np.array([step['nlp']['ida_yppredict']['data'] for step in data_rs]),\n",
    "    'ida_delta': np.array([step['ida_delta']['data'] for step in data_rs]),\n",
    "    'ida_savres': np.array([step['nlp']['ida_savres']['data'] for step in data_rs]),\n",
    "    'ida_ee': np.array([step['ida_ee']['data'] for step in data_rs]),\n",
    "    'ida_ewt': np.array([step['nlp']['ida_ewt']['data'] for step in data_rs]),\n",
    "    'ida_kk': np.array([step['ida_kk'] for step in data_rs]),\n",
    "    'ida_kused': np.array([step['ida_kused'] for step in data_rs]),\n",
    "    'ida_knew': np.array([step['ida_knew'] for step in data_rs]),\n",
    "    'ida_phase': np.array([step['ida_phase'] for step in data_rs]),\n",
    "    'ida_ns': np.array([step['ida_ns'] for step in data_rs]),\n",
    "    'ida_hin': np.array([step['ida_hin'] for step in data_rs]),\n",
    "    'ida_h0u':np.array([step['ida_h0u'] for step in data_rs]),\n",
    "    'ida_hh': np.array([step['ida_hh'] for step in data_rs]),\n",
    "    'ida_hused': np.array([step['ida_hused'] for step in data_rs]),\n",
    "    'ida_rr': np.array([step['ida_rr'] for step in data_rs]),\n",
    "    'ida_tn': np.array([step['nlp']['ida_tn'] for step in data_rs]),\n",
    "    'ida_tretlast': np.array([step['ida_tretlast'] for step in data_rs]),\n",
    "    'ida_cj': np.array([step['nlp']['lp']['ida_cj'] for step in data_rs]),\n",
    "    'ida_cjlast':np.array([step['ida_cjlast'] for step in data_rs]),\n",
    "    'ida_cjold': np.array([step['nlp']['lp']['ida_cjold'] for step in data_rs]),\n",
    "    'ida_cjratio': np.array([step['nlp']['lp']['ida_cjratio'] for step in data_rs]),\n",
    "    'ida_ss': np.array([step['nlp']['ida_ss'] for step in data_rs]),\n",
    "    'ida_oldnrm': np.array([step['nlp']['ida_oldnrm'] for step in data_rs]),\n",
    "    'ida_epsNewt': np.array([step['ida_eps_newt'] for step in data_rs]),\n",
    "    'ida_epcon': np.array([step['ida_epcon'] for step in data_rs]),\n",
    "    'ida_toldel': np.array([step['nlp']['ida_toldel'] for step in data_rs]),\n",
    "    'ida_hmax_inv': np.array([step['ida_hmax_inv'] for step in data_rs]),\n",
    "    'ida_nst': np.array([step['counters']['ida_nst'] for step in data_rs]),\n",
    "    'ida_nre': np.array([step['nlp']['ida_nre'] for step in data_rs]),\n",
    "    'ida_ncfn': np.array([step['counters']['ida_ncfn'] for step in data_rs]),\n",
    "    'ida_netf': np.array([step['counters']['ida_netf'] for step in data_rs]),\n",
    "    'ida_nni': np.array([step['counters']['ida_nni'] for step in data_rs]),\n",
    "    'ida_nsetups': np.array([step['nlp']['ida_nsetups'] for step in data_rs]),\n",
    "    'ida_maxord': np.array([step['ida_maxord'] for step in data_rs]),\n",
    "    'mat_J': np.array([step['nlp']['lp']['mat_j']['data'] for step in data_rs]).reshape((len(data), 3, 3)),\n",
    "    'nje': np.array([step['nlp']['lp']['nje'] for step in data_rs]),\n",
    "    'nls_delta': np.array([step['nls']['delta']['data'] for step in data_rs]),\n",
    "    'nls_curiter': np.array([step['nls']['curiter'] for step in data_rs]),\n",
    "    'nls_niters': np.array([step['nls']['niters'] for step in data_rs]),\n",
    "    'nls_nconvfails': np.array([step['nls']['nconvfails'] for step in data_rs]),\n",
    "}\n",
    "#data_rs = type('data', (object,), dd)\n",
    "display(len(data_rs['ida_nst']))"
   ]
  },
  {
   "cell_type": "code",
   "execution_count": 157,
   "metadata": {
    "scrolled": true
   },
   "outputs": [],
   "source": [
    "for frame in range(0, min(len(data_rs['ida_ns']), len(data_c['ida_ns']))):\n",
    "    for key in data_c.keys():\n",
    "        if not np.allclose(data_c[key][frame], data_rs[key][frame], atol=1e-23, rtol=1e-20):\n",
    "            print(\"Fame {} Step {}: {}\".format(frame, data_c['ida_nst'][frame], key))"
   ]
  },
  {
   "cell_type": "code",
   "execution_count": 155,
   "metadata": {},
   "outputs": [
    {
     "ename": "KeyError",
     "evalue": "'ida_cvals'",
     "output_type": "error",
     "traceback": [
      "\u001b[0;31m---------------------------------------------------------------------------\u001b[0m",
      "\u001b[0;31mKeyError\u001b[0m                                  Traceback (most recent call last)",
      "\u001b[0;32m<ipython-input-155-a5e8131dec30>\u001b[0m in \u001b[0;36m<module>\u001b[0;34m()\u001b[0m\n\u001b[1;32m      4\u001b[0m \u001b[0;31m#plt.plot(data_rs['ida_ee'][0:32] - data_c['ida_ee'][0:32], '-o')\u001b[0m\u001b[0;34m\u001b[0m\u001b[0;34m\u001b[0m\u001b[0;34m\u001b[0m\u001b[0m\n\u001b[1;32m      5\u001b[0m \u001b[0;31m#plt.plot(data_rs['ida_ewt'][0:10] - data_c['ida_ewt'][0:10], '-o')\u001b[0m\u001b[0;34m\u001b[0m\u001b[0;34m\u001b[0m\u001b[0;34m\u001b[0m\u001b[0m\n\u001b[0;32m----> 6\u001b[0;31m \u001b[0mplt\u001b[0m\u001b[0;34m.\u001b[0m\u001b[0mplot\u001b[0m\u001b[0;34m(\u001b[0m\u001b[0mdata_rs\u001b[0m\u001b[0;34m[\u001b[0m\u001b[0;34m'ida_cvals'\u001b[0m\u001b[0;34m]\u001b[0m\u001b[0;34m[\u001b[0m\u001b[0;36m0\u001b[0m\u001b[0;34m:\u001b[0m\u001b[0;34m]\u001b[0m \u001b[0;34m-\u001b[0m \u001b[0mdata_c\u001b[0m\u001b[0;34m[\u001b[0m\u001b[0;34m'ida_cvals'\u001b[0m\u001b[0;34m]\u001b[0m\u001b[0;34m[\u001b[0m\u001b[0;36m0\u001b[0m\u001b[0;34m:\u001b[0m\u001b[0;34m]\u001b[0m\u001b[0;34m,\u001b[0m \u001b[0;34m'o-'\u001b[0m\u001b[0;34m)\u001b[0m\u001b[0;34m\u001b[0m\u001b[0;34m\u001b[0m\u001b[0m\n\u001b[0m",
      "\u001b[0;31mKeyError\u001b[0m: 'ida_cvals'"
     ]
    }
   ],
   "source": [
    "#plt.plot(data_rs['ida_yy'][0:5,2] - data_c['ida_yy'][0:5, 2], '-o')\n",
    "#plt.plot(data_rs['ida_yp'][0:32] - data_c['ida_yp'][0:32], '-o')\n",
    "#plt.plot(data_rs['ida_delta'][0:15] - data_c['ida_delta'][0:15], '-o')\n",
    "#plt.plot(data_rs['ida_ee'][0:32] - data_c['ida_ee'][0:32], '-o')\n",
    "#plt.plot(data_rs['ida_ewt'][0:10] - data_c['ida_ewt'][0:10], '-o')\n",
    "plt.plot(data_rs['ida_cvals'][0:] - data_c['ida_cvals'][0:], 'o-')"
   ]
  },
  {
   "cell_type": "code",
   "execution_count": 131,
   "metadata": {},
   "outputs": [
    {
     "data": {
      "text/plain": [
       "array([[[0., 0., 0.],\n",
       "        [0., 0., 0.],\n",
       "        [0., 0., 0.],\n",
       "        [0., 0., 0.],\n",
       "        [0., 0., 0.],\n",
       "        [0., 0., 0.]],\n",
       "\n",
       "       [[0., 0., 0.],\n",
       "        [0., 0., 0.],\n",
       "        [0., 0., 0.],\n",
       "        [0., 0., 0.],\n",
       "        [0., 0., 0.],\n",
       "        [0., 0., 0.]],\n",
       "\n",
       "       [[0., 0., 0.],\n",
       "        [0., 0., 0.],\n",
       "        [0., 0., 0.],\n",
       "        [0., 0., 0.],\n",
       "        [0., 0., 0.],\n",
       "        [0., 0., 0.]],\n",
       "\n",
       "       [[0., 0., 0.],\n",
       "        [0., 0., 0.],\n",
       "        [0., 0., 0.],\n",
       "        [0., 0., 0.],\n",
       "        [0., 0., 0.],\n",
       "        [0., 0., 0.]],\n",
       "\n",
       "       [[0., 0., 0.],\n",
       "        [0., 0., 0.],\n",
       "        [0., 0., 0.],\n",
       "        [0., 0., 0.],\n",
       "        [0., 0., 0.],\n",
       "        [0., 0., 0.]],\n",
       "\n",
       "       [[0., 0., 0.],\n",
       "        [0., 0., 0.],\n",
       "        [0., 0., 0.],\n",
       "        [0., 0., 0.],\n",
       "        [0., 0., 0.],\n",
       "        [0., 0., 0.]],\n",
       "\n",
       "       [[0., 0., 0.],\n",
       "        [0., 0., 0.],\n",
       "        [0., 0., 0.],\n",
       "        [0., 0., 0.],\n",
       "        [0., 0., 0.],\n",
       "        [0., 0., 0.]],\n",
       "\n",
       "       [[0., 0., 0.],\n",
       "        [0., 0., 0.],\n",
       "        [0., 0., 0.],\n",
       "        [0., 0., 0.],\n",
       "        [0., 0., 0.],\n",
       "        [0., 0., 0.]],\n",
       "\n",
       "       [[0., 0., 0.],\n",
       "        [0., 0., 0.],\n",
       "        [0., 0., 0.],\n",
       "        [0., 0., 0.],\n",
       "        [0., 0., 0.],\n",
       "        [0., 0., 0.]]])"
      ]
     },
     "metadata": {},
     "output_type": "display_data"
    },
    {
     "data": {
      "text/plain": [
       "'o-'"
      ]
     },
     "metadata": {},
     "output_type": "display_data"
    }
   ],
   "source": [
    "#display(data_c['ida_delta'] - data_rs['ida_delta'][:30])\n",
    "#plt.plot(data_rs['ida_yy'][25:150,:] - data_c['ida_yy'][25:150, :], '-')\n",
    "#plt.plot(data_rs['ida_savres'][0:35,1] - data_c['ida_savres'][0:35,1], 'x-')\n",
    "#plt.plot(data_rs['ida_ee'][60:70] - data_c['ida_ee'][60:70], 'x-')\n",
    "#plt.plot(data_rs['ida_yypredict'][0:7] - data_c['ida_yypredict'][0:7] - 0.0, 'o-')\n",
    "display(data_rs['ida_phi'][0:9] - data_c['ida_phi'][0:9], 'o-')\n",
    "#plt.plot(data_c['ida_ss'][10:50] - 0*data_c['ida_ss'][10:50], 'o-')\n",
    "#plt.plot(data_c['ida_phase'][0:10])\n",
    "#plt.plot(range(60,120), data_rs['ida_ee'][60:120] - data_c['ida_ee'][60:120], 'x-')"
   ]
  },
  {
   "cell_type": "code",
   "execution_count": 159,
   "metadata": {
    "scrolled": false
   },
   "outputs": [
    {
     "data": {
      "text/plain": [
       "[<matplotlib.lines.Line2D at 0x7fc8d82c31d0>,\n",
       " <matplotlib.lines.Line2D at 0x7fc8d82c32e8>,\n",
       " <matplotlib.lines.Line2D at 0x7fc8d82c3438>]"
      ]
     },
     "execution_count": 159,
     "metadata": {},
     "output_type": "execute_result"
    },
    {
     "data": {
      "image/png": "[encoded data removed]",
      "text/plain": [
       "<Figure size 432x288 with 1 Axes>"
      ]
     },
     "metadata": {
      "needs_background": "light"
     },
     "output_type": "display_data"
    }
   ],
   "source": [
    "plt.plot(data_c['ida_yp'][:] - data_rs['ida_yp'][:],'-o')"
   ]
  }
 ],
 "metadata": {
  "kernelspec": {
   "display_name": "Python 3",
   "language": "python",
   "name": "python3"
  },
  "language_info": {
   "codemirror_mode": {
    "name": "ipython",
    "version": 3
   },
   "file_extension": ".py",
   "mimetype": "text/x-python",
   "name": "python",
   "nbconvert_exporter": "python",
   "pygments_lexer": "ipython3",
   "version": "3.7.3"
  }
 },
 "nbformat": 4,
 "nbformat_minor": 2
}
